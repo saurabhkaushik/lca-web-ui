{
 "cells": [
  {
   "cell_type": "code",
   "execution_count": 3,
   "metadata": {},
   "outputs": [],
   "source": [
    "from app.common.MySQLUtility import MySQLUtility\n",
    "import os \n",
    "\n",
    "domains = ['esg', 'liabilities' ] #'liabilities', 'esg'\n",
    "os.environ['GOOGLE_APPLICATION_CREDENTIALS'] = './config/gcp/lca-prod-key.json'\n",
    "\n",
    "DB_HOST = '34.93.121.15'\n",
    "DB_USER = 'root'\n",
    "DB_PASSWORD = 'Nu123456$$'\n",
    "DB_NAME = 'lca_prod'\n"
   ]
  },
  {
   "cell_type": "code",
   "execution_count": 4,
   "metadata": {},
   "outputs": [
    {
     "name": "stdout",
     "output_type": "stream",
     "text": [
      "DB Pool Created.\n",
      "Table contract_data successfully created.\n",
      "Table seed_data successfully created.\n",
      "Table training_data successfully created.\n"
     ]
    }
   ],
   "source": [
    "dbconnect = MySQLUtility(DB_HOST, DB_USER, DB_PASSWORD, DB_NAME)\n",
    "dbconnect.create_database()"
   ]
  }
 ],
 "metadata": {
  "kernelspec": {
   "display_name": "env",
   "language": "python",
   "name": "python3"
  },
  "language_info": {
   "codemirror_mode": {
    "name": "ipython",
    "version": 3
   },
   "file_extension": ".py",
   "mimetype": "text/x-python",
   "name": "python",
   "nbconvert_exporter": "python",
   "pygments_lexer": "ipython3",
   "version": "3.7.9 (v3.7.9:13c94747c7, Aug 15 2020, 01:31:08) \n[Clang 6.0 (clang-600.0.57)]"
  },
  "orig_nbformat": 4,
  "vscode": {
   "interpreter": {
    "hash": "c1d698842e75a60f203f02f3c5b6fb192311e1deb6b732f3b78126378b33fd8e"
   }
  }
 },
 "nbformat": 4,
 "nbformat_minor": 2
}
